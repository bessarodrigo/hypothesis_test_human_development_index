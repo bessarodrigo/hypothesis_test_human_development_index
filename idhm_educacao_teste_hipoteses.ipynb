{
 "cells": [
  {
   "cell_type": "markdown",
   "id": "30db378c",
   "metadata": {},
   "source": [
    "# Importação das Bibliotecas"
   ]
  },
  {
   "cell_type": "code",
   "execution_count": 1,
   "id": "e394085f",
   "metadata": {},
   "outputs": [
    {
     "ename": "ModuleNotFoundError",
     "evalue": "No module named 'composicao_histograma_boxplot'",
     "output_type": "error",
     "traceback": [
      "\u001b[1;31m---------------------------------------------------------------------------\u001b[0m",
      "\u001b[1;31mModuleNotFoundError\u001b[0m                       Traceback (most recent call last)",
      "Cell \u001b[1;32mIn[1], line 5\u001b[0m\n\u001b[0;32m      3\u001b[0m \u001b[38;5;28;01mimport\u001b[39;00m\u001b[38;5;250m \u001b[39m\u001b[38;5;21;01mnumpy\u001b[39;00m\u001b[38;5;250m \u001b[39m\u001b[38;5;28;01mas\u001b[39;00m\u001b[38;5;250m \u001b[39m\u001b[38;5;21;01mnp\u001b[39;00m\n\u001b[0;32m      4\u001b[0m \u001b[38;5;28;01mimport\u001b[39;00m\u001b[38;5;250m \u001b[39m\u001b[38;5;21;01mmatplotlib\u001b[39;00m\u001b[38;5;21;01m.\u001b[39;00m\u001b[38;5;21;01mpyplot\u001b[39;00m\u001b[38;5;250m \u001b[39m\u001b[38;5;28;01mas\u001b[39;00m\u001b[38;5;250m \u001b[39m\u001b[38;5;21;01mplt\u001b[39;00m\n\u001b[1;32m----> 5\u001b[0m \u001b[38;5;28;01mfrom\u001b[39;00m\u001b[38;5;250m \u001b[39m\u001b[38;5;21;01mcomposicao_histograma_boxplot\u001b[39;00m\u001b[38;5;250m \u001b[39m\u001b[38;5;28;01mimport\u001b[39;00m composicao_histograma_boxplot\n\u001b[0;32m      6\u001b[0m \u001b[38;5;28;01mfrom\u001b[39;00m\u001b[38;5;250m \u001b[39m\u001b[38;5;21;01mcomposicao_histograma_boxplot\u001b[39;00m\u001b[38;5;250m \u001b[39m\u001b[38;5;28;01mimport\u001b[39;00m calcular_estatisticas\n",
      "\u001b[1;31mModuleNotFoundError\u001b[0m: No module named 'composicao_histograma_boxplot'"
     ]
    }
   ],
   "source": [
    "import pandas as pd\n",
    "import scipy.stats as stats\n",
    "import numpy as np\n",
    "import matplotlib.pyplot as plt\n",
    "from composicao_histograma_boxplot import composicao_histograma_boxplot\n",
    "from composicao_histograma_boxplot import calcular_estatisticas"
   ]
  },
  {
   "cell_type": "markdown",
   "id": "fa3f7a87",
   "metadata": {},
   "source": [
    "# Leitura e Anális da Base"
   ]
  },
  {
   "cell_type": "code",
   "execution_count": null,
   "id": "ceb70ecd",
   "metadata": {},
   "outputs": [],
   "source": [
    "# Leitura da planilha \n",
    "DADOS = r\"C:\\Users\\rodri\\OneDrive\\Sincronização\\Documentos\\GitHub\\hypothesis_test_human_development_index\\dados\\idhm_educacao_teste_hipoteses.xlsx\"\n",
    "df = pd.read_excel(DADOS)\n",
    "\n",
    "# Visualizar as primeiras linhas da tabela\n",
    "df.head()"
   ]
  },
  {
   "cell_type": "code",
   "execution_count": null,
   "id": "ff3e0e1c",
   "metadata": {},
   "outputs": [],
   "source": [
    "# Visualizar as últimas linhas da tabela\n",
    "df.tail()"
   ]
  },
  {
   "cell_type": "code",
   "execution_count": null,
   "id": "fab330fc",
   "metadata": {},
   "outputs": [],
   "source": [
    "# Conferir os tipos de dados\n",
    "df.info()"
   ]
  },
  {
   "cell_type": "markdown",
   "id": "497d6fcd",
   "metadata": {},
   "source": [
    "# Identificação do Problema"
   ]
  },
  {
   "cell_type": "code",
   "execution_count": null,
   "id": "d0c8fd16",
   "metadata": {},
   "outputs": [],
   "source": [
    "numero_observacoes = df[['IDHM_Educacao Nordeste', 'IDHM_Educacao Sul', 'IDHM_Educacao Norte']].count()\n",
    "media = df[['IDHM_Educacao Nordeste', 'IDHM_Educacao Sul', 'IDHM_Educacao Norte']].mean().round(2)\n",
    "desvio_padrao = df[['IDHM_Educacao Nordeste', 'IDHM_Educacao Sul', 'IDHM_Educacao Norte']].std().round(3)\n",
    "\n",
    "print(\"Número de Observações\")\n",
    "print(numero_observacoes)\n",
    "print(\"------------\")\n",
    "print(\"Comparação das médias amostrais\")\n",
    "print(media)\n",
    "print(\"------------\")\n",
    "print(\"Comparação dos desvios amostrais\")\n",
    "print(desvio_padrao)"
   ]
  },
  {
   "cell_type": "code",
   "execution_count": null,
   "id": "ccb974c1",
   "metadata": {},
   "outputs": [],
   "source": [
    "composicao_histograma_boxplot(df, 'IDHM_Educacao Nordeste', titulo=\"Distribuição das amostras de IDHM da Reguão Nordeste\")"
   ]
  }
 ],
 "metadata": {
  "kernelspec": {
   "display_name": "Python (venv)",
   "language": "python",
   "name": "venv"
  },
  "language_info": {
   "codemirror_mode": {
    "name": "ipython",
    "version": 3
   },
   "file_extension": ".py",
   "mimetype": "text/x-python",
   "name": "python",
   "nbconvert_exporter": "python",
   "pygments_lexer": "ipython3",
   "version": "3.13.0"
  }
 },
 "nbformat": 4,
 "nbformat_minor": 5
}
