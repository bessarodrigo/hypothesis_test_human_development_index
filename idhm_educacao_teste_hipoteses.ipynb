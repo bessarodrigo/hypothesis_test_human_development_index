{
 "cells": [
  {
   "cell_type": "markdown",
   "id": "babb65a8",
   "metadata": {},
   "source": [
    "# Importação das Bibliotecas"
   ]
  },
  {
   "cell_type": "code",
   "execution_count": 16,
   "id": "130b3585",
   "metadata": {},
   "outputs": [
    {
     "ename": "ModuleNotFoundError",
     "evalue": "No module named 'composicao_histograma_boxplot'",
     "output_type": "error",
     "traceback": [
      "\u001b[1;31m---------------------------------------------------------------------------\u001b[0m",
      "\u001b[1;31mModuleNotFoundError\u001b[0m                       Traceback (most recent call last)",
      "Cell \u001b[1;32mIn[16], line 5\u001b[0m\n\u001b[0;32m      3\u001b[0m \u001b[38;5;28;01mimport\u001b[39;00m\u001b[38;5;250m \u001b[39m\u001b[38;5;21;01mnumpy\u001b[39;00m\u001b[38;5;250m \u001b[39m\u001b[38;5;28;01mas\u001b[39;00m\u001b[38;5;250m \u001b[39m\u001b[38;5;21;01mnp\u001b[39;00m\n\u001b[0;32m      4\u001b[0m \u001b[38;5;28;01mimport\u001b[39;00m\u001b[38;5;250m \u001b[39m\u001b[38;5;21;01mmatplotlib\u001b[39;00m\u001b[38;5;21;01m.\u001b[39;00m\u001b[38;5;21;01mpyplot\u001b[39;00m\u001b[38;5;250m \u001b[39m\u001b[38;5;28;01mas\u001b[39;00m\u001b[38;5;250m \u001b[39m\u001b[38;5;21;01mplt\u001b[39;00m\n\u001b[1;32m----> 5\u001b[0m \u001b[38;5;28;01mfrom\u001b[39;00m\u001b[38;5;250m \u001b[39m\u001b[38;5;21;01mcomposicao_histograma_boxplot\u001b[39;00m\u001b[38;5;250m \u001b[39m\u001b[38;5;28;01mimport\u001b[39;00m composicao_histograma_boxplot\n\u001b[0;32m      6\u001b[0m \u001b[38;5;28;01mfrom\u001b[39;00m\u001b[38;5;250m \u001b[39m\u001b[38;5;21;01mcomposicao_histograma_boxplot\u001b[39;00m\u001b[38;5;250m \u001b[39m\u001b[38;5;28;01mimport\u001b[39;00m calcular_estatisticas\n",
      "\u001b[1;31mModuleNotFoundError\u001b[0m: No module named 'composicao_histograma_boxplot'"
     ]
    }
   ],
   "source": [
    "import pandas as pd\n",
    "import scipy.stats as stats\n",
    "import numpy as np\n",
    "import matplotlib.pyplot as plt\n",
    "from composicao_histograma_boxplot import composicao_histograma_boxplot\n",
    "from composicao_histograma_boxplot import calcular_estatisticas"
   ]
  },
  {
   "cell_type": "markdown",
   "id": "ae07bad9",
   "metadata": {},
   "source": [
    "# Leitura e Anális da Base"
   ]
  },
  {
   "cell_type": "code",
   "execution_count": 2,
   "id": "e770247b",
   "metadata": {},
   "outputs": [
    {
     "data": {
      "text/html": [
       "<div>\n",
       "<style scoped>\n",
       "    .dataframe tbody tr th:only-of-type {\n",
       "        vertical-align: middle;\n",
       "    }\n",
       "\n",
       "    .dataframe tbody tr th {\n",
       "        vertical-align: top;\n",
       "    }\n",
       "\n",
       "    .dataframe thead th {\n",
       "        text-align: right;\n",
       "    }\n",
       "</style>\n",
       "<table border=\"1\" class=\"dataframe\">\n",
       "  <thead>\n",
       "    <tr style=\"text-align: right;\">\n",
       "      <th></th>\n",
       "      <th>IDHM_Educacao Nordeste</th>\n",
       "      <th>IDHM_Educacao Sul</th>\n",
       "      <th>IDHM_Educacao Norte</th>\n",
       "    </tr>\n",
       "  </thead>\n",
       "  <tbody>\n",
       "    <tr>\n",
       "      <th>0</th>\n",
       "      <td>0.698</td>\n",
       "      <td>0.702</td>\n",
       "      <td>0.658</td>\n",
       "    </tr>\n",
       "    <tr>\n",
       "      <th>1</th>\n",
       "      <td>0.679</td>\n",
       "      <td>0.768</td>\n",
       "      <td>0.673</td>\n",
       "    </tr>\n",
       "    <tr>\n",
       "      <th>2</th>\n",
       "      <td>0.695</td>\n",
       "      <td>0.712</td>\n",
       "      <td>0.749</td>\n",
       "    </tr>\n",
       "    <tr>\n",
       "      <th>3</th>\n",
       "      <td>0.668</td>\n",
       "      <td>0.800</td>\n",
       "      <td>0.638</td>\n",
       "    </tr>\n",
       "    <tr>\n",
       "      <th>4</th>\n",
       "      <td>0.694</td>\n",
       "      <td>0.768</td>\n",
       "      <td>0.658</td>\n",
       "    </tr>\n",
       "  </tbody>\n",
       "</table>\n",
       "</div>"
      ],
      "text/plain": [
       "   IDHM_Educacao Nordeste  IDHM_Educacao Sul  IDHM_Educacao Norte\n",
       "0                   0.698              0.702                0.658\n",
       "1                   0.679              0.768                0.673\n",
       "2                   0.695              0.712                0.749\n",
       "3                   0.668              0.800                0.638\n",
       "4                   0.694              0.768                0.658"
      ]
     },
     "execution_count": 2,
     "metadata": {},
     "output_type": "execute_result"
    }
   ],
   "source": [
    "# Leitura da planilha \n",
    "DADOS = r\"C:\\Users\\rodri\\OneDrive\\Sincronização\\Documentos\\GitHub\\hypothesis_test_human_development_index\\dados\\idhm_educacao_teste_hipoteses.xlsx\"\n",
    "df = pd.read_excel(DADOS)\n",
    "\n",
    "# Visualizar as primeiras linhas da tabela\n",
    "df.head()"
   ]
  },
  {
   "cell_type": "code",
   "execution_count": 3,
   "id": "5dfdb9d4",
   "metadata": {},
   "outputs": [
    {
     "data": {
      "text/html": [
       "<div>\n",
       "<style scoped>\n",
       "    .dataframe tbody tr th:only-of-type {\n",
       "        vertical-align: middle;\n",
       "    }\n",
       "\n",
       "    .dataframe tbody tr th {\n",
       "        vertical-align: top;\n",
       "    }\n",
       "\n",
       "    .dataframe thead th {\n",
       "        text-align: right;\n",
       "    }\n",
       "</style>\n",
       "<table border=\"1\" class=\"dataframe\">\n",
       "  <thead>\n",
       "    <tr style=\"text-align: right;\">\n",
       "      <th></th>\n",
       "      <th>IDHM_Educacao Nordeste</th>\n",
       "      <th>IDHM_Educacao Sul</th>\n",
       "      <th>IDHM_Educacao Norte</th>\n",
       "    </tr>\n",
       "  </thead>\n",
       "  <tbody>\n",
       "    <tr>\n",
       "      <th>1789</th>\n",
       "      <td>0.391</td>\n",
       "      <td>NaN</td>\n",
       "      <td>NaN</td>\n",
       "    </tr>\n",
       "    <tr>\n",
       "      <th>1790</th>\n",
       "      <td>0.390</td>\n",
       "      <td>NaN</td>\n",
       "      <td>NaN</td>\n",
       "    </tr>\n",
       "    <tr>\n",
       "      <th>1791</th>\n",
       "      <td>0.488</td>\n",
       "      <td>NaN</td>\n",
       "      <td>NaN</td>\n",
       "    </tr>\n",
       "    <tr>\n",
       "      <th>1792</th>\n",
       "      <td>0.502</td>\n",
       "      <td>NaN</td>\n",
       "      <td>NaN</td>\n",
       "    </tr>\n",
       "    <tr>\n",
       "      <th>1793</th>\n",
       "      <td>0.459</td>\n",
       "      <td>NaN</td>\n",
       "      <td>NaN</td>\n",
       "    </tr>\n",
       "  </tbody>\n",
       "</table>\n",
       "</div>"
      ],
      "text/plain": [
       "      IDHM_Educacao Nordeste  IDHM_Educacao Sul  IDHM_Educacao Norte\n",
       "1789                   0.391                NaN                  NaN\n",
       "1790                   0.390                NaN                  NaN\n",
       "1791                   0.488                NaN                  NaN\n",
       "1792                   0.502                NaN                  NaN\n",
       "1793                   0.459                NaN                  NaN"
      ]
     },
     "execution_count": 3,
     "metadata": {},
     "output_type": "execute_result"
    }
   ],
   "source": [
    "# Visualizar as últimas linhas da tabela\n",
    "df.tail()"
   ]
  },
  {
   "cell_type": "code",
   "execution_count": 4,
   "id": "56a6caff",
   "metadata": {},
   "outputs": [
    {
     "name": "stdout",
     "output_type": "stream",
     "text": [
      "<class 'pandas.core.frame.DataFrame'>\n",
      "RangeIndex: 1794 entries, 0 to 1793\n",
      "Data columns (total 3 columns):\n",
      " #   Column                  Non-Null Count  Dtype  \n",
      "---  ------                  --------------  -----  \n",
      " 0   IDHM_Educacao Nordeste  1794 non-null   float64\n",
      " 1   IDHM_Educacao Sul       1189 non-null   float64\n",
      " 2   IDHM_Educacao Norte     449 non-null    float64\n",
      "dtypes: float64(3)\n",
      "memory usage: 42.2 KB\n"
     ]
    }
   ],
   "source": [
    "# Conferir os tipos de dados\n",
    "df.info()"
   ]
  },
  {
   "cell_type": "markdown",
   "id": "be5d3d80",
   "metadata": {},
   "source": [
    "# Identificação do Problema"
   ]
  },
  {
   "cell_type": "code",
   "execution_count": 13,
   "id": "64bd49b4",
   "metadata": {},
   "outputs": [
    {
     "name": "stdout",
     "output_type": "stream",
     "text": [
      "Número de Observações\n",
      "IDHM_Educacao Nordeste    1794\n",
      "IDHM_Educacao Sul         1189\n",
      "IDHM_Educacao Norte        449\n",
      "dtype: int64\n",
      "------------\n",
      "Comparação das médias amostrais\n",
      "IDHM_Educacao Nordeste    0.49\n",
      "IDHM_Educacao Sul         0.61\n",
      "IDHM_Educacao Norte       0.49\n",
      "dtype: float64\n",
      "------------\n",
      "Comparação dos desvios amostrais\n",
      "IDHM_Educacao Nordeste    0.066\n",
      "IDHM_Educacao Sul         0.065\n",
      "IDHM_Educacao Norte       0.091\n",
      "dtype: float64\n"
     ]
    }
   ],
   "source": [
    "numero_observacoes = df[['IDHM_Educacao Nordeste', 'IDHM_Educacao Sul', 'IDHM_Educacao Norte']].count()\n",
    "media = df[['IDHM_Educacao Nordeste', 'IDHM_Educacao Sul', 'IDHM_Educacao Norte']].mean().round(2)\n",
    "desvio_padrao = df[['IDHM_Educacao Nordeste', 'IDHM_Educacao Sul', 'IDHM_Educacao Norte']].std().round(3)\n",
    "\n",
    "print(\"Número de Observações\")\n",
    "print(numero_observacoes)\n",
    "print(\"------------\")\n",
    "print(\"Comparação das médias amostrais\")\n",
    "print(media)\n",
    "print(\"------------\")\n",
    "print(\"Comparação dos desvios amostrais\")\n",
    "print(desvio_padrao)"
   ]
  },
  {
   "cell_type": "code",
   "execution_count": 14,
   "id": "880d4cb7",
   "metadata": {},
   "outputs": [
    {
     "ename": "NameError",
     "evalue": "name 'composicao_histograma_boxplot' is not defined",
     "output_type": "error",
     "traceback": [
      "\u001b[1;31m---------------------------------------------------------------------------\u001b[0m",
      "\u001b[1;31mNameError\u001b[0m                                 Traceback (most recent call last)",
      "Cell \u001b[1;32mIn[14], line 1\u001b[0m\n\u001b[1;32m----> 1\u001b[0m \u001b[43mcomposicao_histograma_boxplot\u001b[49m(df, \u001b[38;5;124m'\u001b[39m\u001b[38;5;124mIDHM_Educacao Nordeste\u001b[39m\u001b[38;5;124m'\u001b[39m, titulo\u001b[38;5;241m=\u001b[39m\u001b[38;5;124m\"\u001b[39m\u001b[38;5;124mDistribuição das amostras de IDHM da Reguão Nordeste\u001b[39m\u001b[38;5;124m\"\u001b[39m)\n",
      "\u001b[1;31mNameError\u001b[0m: name 'composicao_histograma_boxplot' is not defined"
     ]
    }
   ],
   "source": [
    "composicao_histograma_boxplot(df, 'IDHM_Educacao Nordeste', titulo=\"Distribuição das amostras de IDHM da Reguão Nordeste\")"
   ]
  }
 ],
 "metadata": {
  "kernelspec": {
   "display_name": "Python (venv)",
   "language": "python",
   "name": "venv"
  },
  "language_info": {
   "codemirror_mode": {
    "name": "ipython",
    "version": 3
   },
   "file_extension": ".py",
   "mimetype": "text/x-python",
   "name": "python",
   "nbconvert_exporter": "python",
   "pygments_lexer": "ipython3",
   "version": "3.13.0"
  }
 },
 "nbformat": 4,
 "nbformat_minor": 5
}
